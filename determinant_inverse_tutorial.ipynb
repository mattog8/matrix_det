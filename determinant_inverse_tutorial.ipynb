{
 "cells": [
  {
   "cell_type": "markdown",
   "id": "0",
   "metadata": {},
   "source": [
    "# Visualizing Determinants, Inverses, and Solving $A x = b$\n",
    "\n",
    "This interactive mini‑notebook lets you **see** what the determinant does, how it leads to an inverse (when it’s non‑zero), and how that inverse helps us solve linear systems."
   ]
  },
  {
   "cell_type": "markdown",
   "id": "1",
   "metadata": {},
   "source": [
    "### Learning goals\n",
    "1. **Determinant as area/volume scaling** – watch the unit square get stretched.\n",
    "2. **Inverse via the adjugate‑over‑determinant formula (2×2 case).**\n",
    "3. **Solving $A\\,x=b$ interactively** – change the matrix and the right‑hand side to observe the solution.\n",
    "\n",
    "*Feel free to play with the sliders!*"
   ]
  },
  {
   "cell_type": "code",
   "execution_count": null,
   "id": "2",
   "metadata": {},
   "outputs": [],
   "source": [
    "import numpy as np\n",
    "import matplotlib.pyplot as plt\n",
    "from ipywidgets import interact\n",
    "%matplotlib inline\n"
   ]
  },
  {
   "cell_type": "code",
   "execution_count": null,
   "id": "3",
   "metadata": {},
   "outputs": [],
   "source": [
    "def plot_transform(a, b, c, d):\n",
    "    A = np.array([[a, b], [c, d]])\n",
    "    unit = np.array([[0,0],[1,0],[1,1],[0,1],[0,0]])  # unit square\n",
    "    transformed = unit @ A.T\n",
    "\n",
    "    plt.figure(figsize=(5,5))\n",
    "    plt.plot(unit[:,0], unit[:,1], label='unit square')\n",
    "    plt.plot(transformed[:,0], transformed[:,1], label='A · square')\n",
    "    plt.fill(unit[:-1,0], unit[:-1,1], alpha=0.2)\n",
    "    plt.fill(transformed[:-1,0], transformed[:-1,1], alpha=0.2)\n",
    "    plt.gca().set_aspect('equal', 'box')\n",
    "    plt.grid(True)\n",
    "    det = np.linalg.det(A)\n",
    "    plt.title(f\"A = [[{a},{b}],[{c},{d}]]   det(A) = {det:.2f}\")\n",
    "    plt.legend()\n",
    "    plt.show()\n",
    "\n",
    "interact(plot_transform,\n",
    "         a=(-3.0, 3.0, 0.5),\n",
    "         b=(-3.0, 3.0, 0.5),\n",
    "         c=(-3.0, 3.0, 0.5),\n",
    "         d=(-3.0, 3.0, 0.5));\n"
   ]
  },
  {
   "cell_type": "markdown",
   "id": "4",
   "metadata": {},
   "source": [
    "**Observations**\n",
    "- The parallelogram’s area equals $|\\det A|$.\n",
    "- When the determinant hits zero, the area collapses to a line segment – the map is no longer invertible.\n",
    "- A negative determinant flips orientation."
   ]
  },
  {
   "cell_type": "markdown",
   "id": "5",
   "metadata": {},
   "source": [
    "## 2×2 inverse via the adjugate\n",
    "For\n",
    "\\[A = \\begin{pmatrix}a & b \\\\ c & d\\end{pmatrix}\\] the adjugate is\n",
    "\\[\\operatorname{adj}A = \\begin{pmatrix}d & -b \\\\ -c & a\\end{pmatrix},\\]\n",
    "and\n",
    "\\[A^{-1} = \\frac{1}{\\det A}\\,\\operatorname{adj}A,\\quad \\det A \\neq 0.\\]"
   ]
  },
  {
   "cell_type": "code",
   "execution_count": null,
   "id": "6",
   "metadata": {},
   "outputs": [],
   "source": [
    "def inverse_2x2(A):\n",
    "    det = np.linalg.det(A)\n",
    "    if abs(det) < 1e-9:\n",
    "        return None\n",
    "    return (1/det) * np.array([[A[1,1], -A[0,1]], [-A[1,0], A[0,0]]])\n",
    "\n",
    "A = np.array([[2, 1],\n",
    "              [1, 3]])\n",
    "print(\"A =\\n\", A)\n",
    "print(\"det(A) =\", np.linalg.det(A))\n",
    "\n",
    "print(\"\\nInverse via formula:\\n\", inverse_2x2(A))\n",
    "print(\"\\nInverse via numpy.linalg.inv:\\n\", np.linalg.inv(A))\n"
   ]
  },
  {
   "cell_type": "markdown",
   "id": "7",
   "metadata": {},
   "source": [
    "## Solve $A x = b$ interactively"
   ]
  },
  {
   "cell_type": "code",
   "execution_count": null,
   "id": "8",
   "metadata": {},
   "outputs": [],
   "source": [
    "def solve_system(a, b, c, d, b1, b2):\n",
    "    A = np.array([[a, b], [c, d]], dtype=float)\n",
    "    B = np.array([b1, b2], dtype=float)\n",
    "    print(\"A =\\n\", A)\n",
    "    print(\"b =\", B)\n",
    "    try:\n",
    "        x = np.linalg.solve(A, B)\n",
    "        print(\"\\nSolution x =\", x)\n",
    "        print(\"Check A·x =\", A @ x)\n",
    "    except np.linalg.LinAlgError:\n",
    "        print(\"\\nMatrix not invertible (determinant = 0).\")\n",
    "\n",
    "interact(solve_system,\n",
    "         a=(-5, 5, 1), b=(-5, 5, 1),\n",
    "         c=(-5, 5, 1), d=(-5, 5, 1),\n",
    "         b1=(-10, 10, 1), b2=(-10, 10, 1));\n"
   ]
  },
  {
   "cell_type": "markdown",
   "id": "9",
   "metadata": {},
   "source": [
    "### Beyond 2×2\n",
    "- In 3‑D the determinant scales *volume* instead of area.\n",
    "- For larger matrices, `np.linalg.solve` (LU decomposition under the hood) is the recommended way:\n",
    "```python\n",
    "A = np.random.randn(5,5)\n",
    "b = np.random.randn(5)\n",
    "x = np.linalg.solve(A, b)\n",
    "```"
   ]
  },
  {
   "cell_type": "markdown",
   "id": "10",
   "metadata": {},
   "source": [
    "---\n",
    "**Experiment:** vary the coefficients until the determinant becomes very small. Notice how the parallelogram nearly flattens and the numeric solution becomes unstable – that’s what an *ill‑conditioned* matrix looks like."
   ]
  }
 ],
 "metadata": {
  "kernelspec": {
   "display_name": "math_env",
   "language": "python",
   "name": "python3"
  },
  "language_info": {
   "codemirror_mode": {
    "name": "ipython",
    "version": 3
   },
   "file_extension": ".py",
   "mimetype": "text/x-python",
   "name": "python",
   "nbconvert_exporter": "python",
   "pygments_lexer": "ipython3",
   "version": "3.11.13"
  }
 },
 "nbformat": 4,
 "nbformat_minor": 5
}
